{
 "cells": [
  {
   "cell_type": "code",
   "execution_count": 1,
   "metadata": {},
   "outputs": [
    {
     "data": {
      "text/plain": [
       "'201777'"
      ]
     },
     "execution_count": 1,
     "metadata": {},
     "output_type": "execute_result"
    }
   ],
   "source": [
    "import datetime\n",
    "now = datetime.datetime.now()\n",
    "output_date=str(now.year)+str(now.month)+str(now.day-3)\n",
    "output_date"
   ]
  },
  {
   "cell_type": "code",
   "execution_count": 2,
   "metadata": {
    "collapsed": true
   },
   "outputs": [],
   "source": [
    "import pandas as pd\n",
    "data=pd.read_csv(r\"C:\\Users\\cnyi\\Box Sync\\Github\\Python-code\\CraglistHousing\\apa_data_\"+output_date+\".csv\",encoding ='utf8',index_col=None)"
   ]
  },
  {
   "cell_type": "code",
   "execution_count": 4,
   "metadata": {},
   "outputs": [],
   "source": [
    "def target_location_check (x=\"Sunnyvale: CalTrain Station\"):\n",
    "    global target_location_coords\n",
    "    from geopy.geocoders import Nominatim\n",
    "    geolocator = Nominatim()\n",
    "    target_location=geolocator.geocode(x)\n",
    "    target_location_coords=(target_location.latitude,target_location.longitude)\n",
    "    print('The target location is '+target_location.address)\n",
    "    print ('The target coordinates is '+str(target_location_coords))\n",
    "    return target_location_coords\n",
    "\n",
    "def great_circle_distance(x):\n",
    "    global target_location_coords\n",
    "    import sys\n",
    "    try:\n",
    "        distance=great_circle(target_location_coords,x).miles\n",
    "    except:\n",
    "        distance=9999\n",
    "        #print sys.exc_info()\n",
    "    return distance \n",
    "\n",
    "def search_apa(search_radius=0.5):\n",
    "    return data[data.loc[:,'lat_long'].apply(lambda x: great_circle_distance(x)<search_radius)]"
   ]
  },
  {
   "cell_type": "code",
   "execution_count": 5,
   "metadata": {},
   "outputs": [
    {
     "name": "stdout",
     "output_type": "stream",
     "text": [
      "The target location is Sunnyvale Caltrain Station, West Hendy Avenue, Sunnyvale, Santa Clara County, California, 94086, United States of America\n",
      "The target coordinates is (37.3784224, -122.030700307711)\n"
     ]
    },
    {
     "data": {
      "text/plain": [
       "(37.3784224, -122.030700307711)"
      ]
     },
     "execution_count": 5,
     "metadata": {},
     "output_type": "execute_result"
    }
   ],
   "source": [
    "target_location_check(\"Sunnyvale: CalTrain Station\") #Golden Gate Bridge , Impact Hub Oakland, Sunnyvale: CalTrain Station"
   ]
  },
  {
   "cell_type": "code",
   "execution_count": 10,
   "metadata": {
    "collapsed": true
   },
   "outputs": [],
   "source": [
    "def delete_map(x):\n",
    "    try:\n",
    "        return str(x).replace('()','').strip()\n",
    "    except:\n",
    "        return ''\n",
    "\n",
    "data['mapaddress']=data['mapaddress'].str.replace('\\n','').str.replace(r'(google map)','').str.strip().str.replace('()','')\n",
    "data['mapaddress']=data['mapaddress'].apply(lambda x : delete_map(x))\n",
    "data['url']=data['url'].apply(lambda x: r'<a href=\"'+x+'\">link</a>')"
   ]
  },
  {
   "cell_type": "code",
   "execution_count": 14,
   "metadata": {},
   "outputs": [],
   "source": [
    "data_html=data[['price','attr_space','attr_type','chinese_content','datetime','mapaddress','where','name','url']]\n",
    "data_html=data_html[data_html['attr_type'].notnull()]\n",
    "\n",
    "\n",
    "apa_studio=data_html[data_html['attr_type'].str.contains('0BR')]\n",
    "apa_1BR=data_html[data_html['attr_type'].str.contains('1BR')]\n",
    "apa_2BR=data_html[data_html['attr_type'].str.contains('2BR')]\n",
    "apa_3BR=data_html[data_html['attr_type'].str.contains('3BR')]"
   ]
  }
 ],
 "metadata": {
  "kernelspec": {
   "display_name": "Python 2",
   "language": "python",
   "name": "python2"
  },
  "language_info": {
   "codemirror_mode": {
    "name": "ipython",
    "version": 2
   },
   "file_extension": ".py",
   "mimetype": "text/x-python",
   "name": "python",
   "nbconvert_exporter": "python",
   "pygments_lexer": "ipython2",
   "version": "2.7.13"
  }
 },
 "nbformat": 4,
 "nbformat_minor": 2
}
