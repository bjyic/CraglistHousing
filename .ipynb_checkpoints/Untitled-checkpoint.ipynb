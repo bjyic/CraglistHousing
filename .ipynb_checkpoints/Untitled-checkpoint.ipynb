{
 "cells": [
  {
   "cell_type": "code",
   "execution_count": 4,
   "metadata": {
    "collapsed": true
   },
   "outputs": [],
   "source": [
    "import pandas as pd\n",
    "from geopy.distance import great_circle\n",
    "import datetime"
   ]
  },
  {
   "cell_type": "code",
   "execution_count": 2,
   "metadata": {
    "collapsed": true
   },
   "outputs": [],
   "source": [
    "crime_data=pd.read_csv(r'C:\\Users\\cnyi\\Box Sync\\Github\\Python-code\\CraglistHousing\\Police_Department_Incidents_Current_Year_2017.csv')"
   ]
  },
  {
   "cell_type": "code",
   "execution_count": 6,
   "metadata": {},
   "outputs": [
    {
     "data": {
      "text/plain": [
       "'201774'"
      ]
     },
     "execution_count": 6,
     "metadata": {},
     "output_type": "execute_result"
    }
   ],
   "source": [
    "now = datetime.datetime.now()\n",
    "output_date=str(now.year)+str(now.month)+str(now.day-2)\n",
    "\n",
    "\n",
    "output_date"
   ]
  },
  {
   "cell_type": "code",
   "execution_count": 7,
   "metadata": {
    "collapsed": true
   },
   "outputs": [],
   "source": [
    "data=pd.read_csv(r\"C:\\Users\\cnyi\\Box Sync\\Github\\Python-code\\CraglistHousing\\apa_data_\"+output_date+\".csv\",encoding ='utf8',index_col=None)"
   ]
  },
  {
   "cell_type": "code",
   "execution_count": 18,
   "metadata": {
    "collapsed": true
   },
   "outputs": [],
   "source": [
    "def great_circle_crime_distance(x,y):\n",
    "    import sys\n",
    "    try:\n",
    "        distance=great_circle(x,y).miles\n",
    "    except:\n",
    "        distance=9999\n",
    "        #print sys.exc_info()\n",
    "        #break\n",
    "    return distance "
   ]
  },
  {
   "cell_type": "code",
   "execution_count": null,
   "metadata": {
    "collapsed": true
   },
   "outputs": [],
   "source": [
    "cnt_list=[]\n",
    "for i in data['lat_long']:\n",
    "    cnt=0\n",
    "    a=crime_data['Location'].apply(lambda x: great_circle_crime_distance(i,x)<3)\n",
    "    l=len(crime_data['Location'][a])\n",
    "    cnt_list.append(l) "
   ]
  },
  {
   "cell_type": "code",
   "execution_count": null,
   "metadata": {
    "collapsed": true
   },
   "outputs": [],
   "source": [
    "se = pd.Series(cnt_list)\n",
    "data['crime_count'] = se.values\n"
   ]
  }
 ],
 "metadata": {
  "kernelspec": {
   "display_name": "Python 2",
   "language": "python",
   "name": "python2"
  },
  "language_info": {
   "codemirror_mode": {
    "name": "ipython",
    "version": 2
   },
   "file_extension": ".py",
   "mimetype": "text/x-python",
   "name": "python",
   "nbconvert_exporter": "python",
   "pygments_lexer": "ipython2",
   "version": "2.7.13"
  }
 },
 "nbformat": 4,
 "nbformat_minor": 2
}
