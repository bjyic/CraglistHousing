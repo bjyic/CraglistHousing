{
 "cells": [
  {
   "cell_type": "code",
   "execution_count": 17,
   "metadata": {},
   "outputs": [],
   "source": [
    "import datetime\n",
    "import pandas as pd\n",
    "import datetime\n",
    "import os\n",
    "import geopy.distance\n",
    "from geopy.distance import great_circle\n",
    "now = datetime.datetime.now()\n",
    "output_date=str(now.year)+str(now.month)+str(now.day)\n",
    "\n",
    "import pandas as pd\n",
    "pd.set_option('display.max_colwidth', -1)\n"
   ]
  },
  {
   "cell_type": "code",
   "execution_count": 18,
   "metadata": {
    "collapsed": true
   },
   "outputs": [],
   "source": [
    "def target_location_check (x=\"Sunnyvale: CalTrain Station\"):\n",
    "    global target_location_coords\n",
    "    from geopy.geocoders import Nominatim\n",
    "    geolocator = Nominatim()\n",
    "    target_location=geolocator.geocode(x)\n",
    "    target_location_coords=(target_location.latitude,target_location.longitude)\n",
    "    print('The target location is '+target_location.address)\n",
    "    print ('The target coordinates is '+str(target_location_coords))\n",
    "    return target_location_coords\n",
    "\n",
    "def great_circle_distance(x):\n",
    "    global target_location_coords\n",
    "    import sys\n",
    "    try:\n",
    "        distance=great_circle(target_location_coords,x).miles\n",
    "    except:\n",
    "        distance=9999\n",
    "        #print sys.exc_info()\n",
    "    return distance \n",
    "\n",
    "def search_apa(search_radius=0.5):\n",
    "    return data[data.loc[:,'lat_long'].apply(lambda x: great_circle_distance(x)<search_radius)]"
   ]
  },
  {
   "cell_type": "code",
   "execution_count": 20,
   "metadata": {},
   "outputs": [],
   "source": [
    "def delete_map(x):\n",
    "    try:\n",
    "        return str(x).replace('()','').strip()\n",
    "    except:\n",
    "        return ''\n",
    "\n"
   ]
  },
  {
   "cell_type": "code",
   "execution_count": 16,
   "metadata": {},
   "outputs": [
    {
     "ename": "GeocoderTimedOut",
     "evalue": "Service timed out",
     "output_type": "error",
     "traceback": [
      "\u001b[1;31m\u001b[0m",
      "\u001b[1;31mGeocoderTimedOut\u001b[0mTraceback (most recent call last)",
      "\u001b[1;32m<ipython-input-3-68c143507490>\u001b[0m in \u001b[0;36m<module>\u001b[1;34m()\u001b[0m\n\u001b[1;32m----> 1\u001b[1;33m \u001b[0mtarget_location_check\u001b[0m\u001b[1;33m(\u001b[0m\u001b[1;34m\"Sunnyvale: CalTrain Station\"\u001b[0m\u001b[1;33m)\u001b[0m \u001b[1;31m#Golden Gate Bridge , Impact Hub Oakland, Sunnyvale: CalTrain Station\u001b[0m\u001b[1;33m\u001b[0m\u001b[0m\n\u001b[0m",
      "\u001b[1;32m<ipython-input-2-bc743ae5a4bc>\u001b[0m in \u001b[0;36mtarget_location_check\u001b[1;34m(x)\u001b[0m\n\u001b[0;32m      3\u001b[0m     \u001b[1;32mfrom\u001b[0m \u001b[0mgeopy\u001b[0m\u001b[1;33m.\u001b[0m\u001b[0mgeocoders\u001b[0m \u001b[1;32mimport\u001b[0m \u001b[0mNominatim\u001b[0m\u001b[1;33m\u001b[0m\u001b[0m\n\u001b[0;32m      4\u001b[0m     \u001b[0mgeolocator\u001b[0m \u001b[1;33m=\u001b[0m \u001b[0mNominatim\u001b[0m\u001b[1;33m(\u001b[0m\u001b[1;33m)\u001b[0m\u001b[1;33m\u001b[0m\u001b[0m\n\u001b[1;32m----> 5\u001b[1;33m     \u001b[0mtarget_location\u001b[0m\u001b[1;33m=\u001b[0m\u001b[0mgeolocator\u001b[0m\u001b[1;33m.\u001b[0m\u001b[0mgeocode\u001b[0m\u001b[1;33m(\u001b[0m\u001b[0mx\u001b[0m\u001b[1;33m)\u001b[0m\u001b[1;33m\u001b[0m\u001b[0m\n\u001b[0m\u001b[0;32m      6\u001b[0m     \u001b[0mtarget_location_coords\u001b[0m\u001b[1;33m=\u001b[0m\u001b[1;33m(\u001b[0m\u001b[0mtarget_location\u001b[0m\u001b[1;33m.\u001b[0m\u001b[0mlatitude\u001b[0m\u001b[1;33m,\u001b[0m\u001b[0mtarget_location\u001b[0m\u001b[1;33m.\u001b[0m\u001b[0mlongitude\u001b[0m\u001b[1;33m)\u001b[0m\u001b[1;33m\u001b[0m\u001b[0m\n\u001b[0;32m      7\u001b[0m     \u001b[1;32mprint\u001b[0m\u001b[1;33m(\u001b[0m\u001b[1;34m'The target location is '\u001b[0m\u001b[1;33m+\u001b[0m\u001b[0mtarget_location\u001b[0m\u001b[1;33m.\u001b[0m\u001b[0maddress\u001b[0m\u001b[1;33m)\u001b[0m\u001b[1;33m\u001b[0m\u001b[0m\n",
      "\u001b[1;32mC:\\Users\\cnyi\\AppData\\Local\\Continuum\\Anaconda3\\lib\\site-packages\\geopy\\geocoders\\osm.pyc\u001b[0m in \u001b[0;36mgeocode\u001b[1;34m(self, query, exactly_one, timeout, addressdetails, language, geometry)\u001b[0m\n\u001b[0;32m    191\u001b[0m         \u001b[0mlogger\u001b[0m\u001b[1;33m.\u001b[0m\u001b[0mdebug\u001b[0m\u001b[1;33m(\u001b[0m\u001b[1;34m\"%s.geocode: %s\"\u001b[0m\u001b[1;33m,\u001b[0m \u001b[0mself\u001b[0m\u001b[1;33m.\u001b[0m\u001b[0m__class__\u001b[0m\u001b[1;33m.\u001b[0m\u001b[0m__name__\u001b[0m\u001b[1;33m,\u001b[0m \u001b[0murl\u001b[0m\u001b[1;33m)\u001b[0m\u001b[1;33m\u001b[0m\u001b[0m\n\u001b[0;32m    192\u001b[0m         return self._parse_json(\n\u001b[1;32m--> 193\u001b[1;33m             \u001b[0mself\u001b[0m\u001b[1;33m.\u001b[0m\u001b[0m_call_geocoder\u001b[0m\u001b[1;33m(\u001b[0m\u001b[0murl\u001b[0m\u001b[1;33m,\u001b[0m \u001b[0mtimeout\u001b[0m\u001b[1;33m=\u001b[0m\u001b[0mtimeout\u001b[0m\u001b[1;33m)\u001b[0m\u001b[1;33m,\u001b[0m \u001b[0mexactly_one\u001b[0m\u001b[1;33m\u001b[0m\u001b[0m\n\u001b[0m\u001b[0;32m    194\u001b[0m         )\n\u001b[0;32m    195\u001b[0m \u001b[1;33m\u001b[0m\u001b[0m\n",
      "\u001b[1;32mC:\\Users\\cnyi\\AppData\\Local\\Continuum\\Anaconda3\\lib\\site-packages\\geopy\\geocoders\\base.pyc\u001b[0m in \u001b[0;36m_call_geocoder\u001b[1;34m(self, url, timeout, raw, requester, deserializer, **kwargs)\u001b[0m\n\u001b[0;32m    161\u001b[0m             \u001b[1;32melif\u001b[0m \u001b[0misinstance\u001b[0m\u001b[1;33m(\u001b[0m\u001b[0merror\u001b[0m\u001b[1;33m,\u001b[0m \u001b[0mURLError\u001b[0m\u001b[1;33m)\u001b[0m\u001b[1;33m:\u001b[0m\u001b[1;33m\u001b[0m\u001b[0m\n\u001b[0;32m    162\u001b[0m                 \u001b[1;32mif\u001b[0m \u001b[1;34m\"timed out\"\u001b[0m \u001b[1;32min\u001b[0m \u001b[0mmessage\u001b[0m\u001b[1;33m:\u001b[0m\u001b[1;33m\u001b[0m\u001b[0m\n\u001b[1;32m--> 163\u001b[1;33m                     \u001b[1;32mraise\u001b[0m \u001b[0mGeocoderTimedOut\u001b[0m\u001b[1;33m(\u001b[0m\u001b[1;34m'Service timed out'\u001b[0m\u001b[1;33m)\u001b[0m\u001b[1;33m\u001b[0m\u001b[0m\n\u001b[0m\u001b[0;32m    164\u001b[0m                 \u001b[1;32melif\u001b[0m \u001b[1;34m\"unreachable\"\u001b[0m \u001b[1;32min\u001b[0m \u001b[0mmessage\u001b[0m\u001b[1;33m:\u001b[0m\u001b[1;33m\u001b[0m\u001b[0m\n\u001b[0;32m    165\u001b[0m                     \u001b[1;32mraise\u001b[0m \u001b[0mGeocoderUnavailable\u001b[0m\u001b[1;33m(\u001b[0m\u001b[1;34m'Service not available'\u001b[0m\u001b[1;33m)\u001b[0m\u001b[1;33m\u001b[0m\u001b[0m\n",
      "\u001b[1;31mGeocoderTimedOut\u001b[0m: Service timed out"
     ]
    }
   ],
   "source": [
    "from flask import Flask, render_template, request, redirect \n",
    "app = Flask(__name__)\n",
    "\n",
    "pd.set_option('display.max_colwidth', -1)\n",
    "@app.route('/')\n",
    "def main():\n",
    "    return redirect('/index')\n",
    "\n",
    "'''\n",
    "@app.route('/index', methods=['GET', 'POST'])\n",
    "def index():\n",
    "    if request.method == 'GET':\n",
    "        return render_template('index.html')\n",
    "\n",
    "    else:\n",
    "        ticker_input = request.form['ticker_symbol']\n",
    "        df_data = get_data_df(ticker=ticker_input)\n",
    "\n",
    "        if len(df_data) > 0:\n",
    "            script, div = get_plot_ticker_components(\n",
    "                ticker=ticker_input,\n",
    "                df_data=df_data\n",
    "            )\n",
    "\n",
    "            return render_template('plot_template.html', script=script, div=div)\n",
    "\n",
    "        else:\n",
    "            return redirect('/error_page')\n",
    "'''\n",
    "@app.route('/index', methods=['GET', 'POST'])\n",
    "def index():\n",
    "    data=pd.read_csv(r\"C:\\Users\\cnyi\\Box Sync\\Github\\Python-code\\CraglistHousing\\apa_data_final\"+output_date+\".csv\",encoding ='utf8',index_col=None)\n",
    "    target_location_check(\"Sunnyvale: CalTrain Station\") #Golden Gate Bridge , Impact Hub Oakland, Sunnyvale: CalTrain Station\n",
    "    \n",
    "    data['mapaddress']=data['mapaddress'].str.replace('\\n','').str.replace(r'(google map)','').str.strip().str.replace('()','')\n",
    "    data['mapaddress']=data['mapaddress'].apply(lambda x : delete_map(x))\n",
    "    data['url']=data['url'].apply(lambda x: r'<a href=\"'+x+'\">link</a>')\n",
    "    \n",
    "    data=search_apa(2.5)\n",
    "    data_html=data[['price','attr_space','attr_type','chinese_content','datetime','mapaddress','where','name','url']]\n",
    "    data_html=data_html[data_html['attr_type'].notnull()]\n",
    "    \n",
    "    apa_studio=data_html[data_html['attr_type'].str.contains('0BR')].head(3)\n",
    "    apa_1BR=data_html[data_html['attr_type'].str.contains('1BR')].head(3)\n",
    "    apa_2BR=data_html[data_html['attr_type'].str.contains('2BR')].head(3)\n",
    "    apa_3BR=data_html[data_html['attr_type'].str.contains('3BR')].head(3)\n",
    "    \n",
    "    if request.method == 'GET':\n",
    "        return render_template('view.html',tables=[apa_studio.to_html(classes='apa_studio',escape=False)],titles = ['na', 'apa_studio'])\n",
    "\n",
    "\n",
    "@app.route('/error_page', methods=['GET', 'POST'])\n",
    "def error_page():\n",
    "    return render_template('error_page.html')\n",
    "\n",
    "'''\n",
    "if __name__ == '__main__':\n",
    "    app.run(port=33507)\n",
    "\n",
    "if __name__ == \"__main__\":\n",
    "    port = int(os.environ.get(\"PORT\", 5000))\n",
    "    app.run(host='0.0.0.0', port=port)\n",
    "'''\n",
    "if __name__ == '__main__':\n",
    "     %tb app.run(host='0.0.0.0')"
   ]
  },
  {
   "cell_type": "code",
   "execution_count": null,
   "metadata": {
    "collapsed": true
   },
   "outputs": [],
   "source": [
    ",\\\n",
    "                                               apa_1BR.to_html(classes='apa_1BR',escape=False),\\\n",
    "                                              apa_2BR.to_html(classes='apa_2BR',escape=False),\\\n",
    "                                              apa_3BR.to_html(classes='apa_3BR',escape=False)"
   ]
  },
  {
   "cell_type": "code",
   "execution_count": null,
   "metadata": {
    "collapsed": true
   },
   "outputs": [],
   "source": [
    ", 'Top 3 1_Bedroom' ,'Top 3 2_Bedroom','Top 3 3_Bedroom'"
   ]
  },
  {
   "cell_type": "code",
   "execution_count": null,
   "metadata": {
    "collapsed": true
   },
   "outputs": [],
   "source": [
    "return render_template('view.html',tables=[females.to_html(classes='female'), males.to_html(classes='male')],\\\n",
    "                       titles = ['na', 'Female surfers', 'Male surfers'])"
   ]
  }
 ],
 "metadata": {
  "kernelspec": {
   "display_name": "Python 2",
   "language": "python",
   "name": "python2"
  },
  "language_info": {
   "codemirror_mode": {
    "name": "ipython",
    "version": 2
   },
   "file_extension": ".py",
   "mimetype": "text/x-python",
   "name": "python",
   "nbconvert_exporter": "python",
   "pygments_lexer": "ipython2",
   "version": "2.7.13"
  }
 },
 "nbformat": 4,
 "nbformat_minor": 2
}
