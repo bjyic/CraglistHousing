{
 "cells": [
  {
   "cell_type": "code",
   "execution_count": 1,
   "metadata": {
    "collapsed": true
   },
   "outputs": [],
   "source": [
    "import datetime\n",
    "import pandas as pd\n",
    "import datetime\n",
    "import os\n",
    "import geopy.distance\n",
    "from geopy.distance import great_circle\n",
    "now = datetime.datetime.now()\n",
    "output_date=str(now.year)+str(now.month)+str(now.day-1)\n",
    "\n",
    "import pandas as pd\n",
    "pd.set_option('display.max_colwidth', -1)\n"
   ]
  },
  {
   "cell_type": "code",
   "execution_count": 2,
   "metadata": {
    "collapsed": true
   },
   "outputs": [],
   "source": [
    "def target_location_check (x=\"Sunnyvale: CalTrain Station\"):\n",
    "    global target_location_coords\n",
    "    from geopy.geocoders import Nominatim\n",
    "    geolocator = Nominatim()\n",
    "    target_location=geolocator.geocode(x)\n",
    "    target_location_coords=(target_location.latitude,target_location.longitude)\n",
    "    #print('The target location is '+target_location.address)\n",
    "    #print ('The target coordinates is '+str(target_location_coords))\n",
    "    return target_location_coords\n",
    "\n",
    "def great_circle_distance(x):\n",
    "    global target_location_coords\n",
    "    import sys\n",
    "    try:\n",
    "        distance=great_circle(target_location_coords,x).miles\n",
    "    except:\n",
    "        distance=9999\n",
    "        #print sys.exc_info()\n",
    "    return distance \n"
   ]
  },
  {
   "cell_type": "code",
   "execution_count": 3,
   "metadata": {
    "collapsed": true
   },
   "outputs": [],
   "source": [
    "def delete_map(x):\n",
    "    try:\n",
    "        return str(x).replace('()','').strip()\n",
    "    except:\n",
    "        return ''\n",
    "\n"
   ]
  },
  {
   "cell_type": "code",
   "execution_count": null,
   "metadata": {},
   "outputs": [
    {
     "name": "stderr",
     "output_type": "stream",
     "text": [
      " * Running on http://0.0.0.0:5000/ (Press CTRL+C to quit)\n",
      "127.0.0.1 - - [11/Jul/2017 04:37:00] \"\u001b[32mGET / HTTP/1.1\u001b[0m\" 302 -\n",
      "127.0.0.1 - - [11/Jul/2017 04:37:00] \"\u001b[33mGET /index HTTP/1.1\u001b[0m\" 404 -\n",
      "127.0.0.1 - - [11/Jul/2017 04:37:08] \"\u001b[37mGET /tables HTTP/1.1\u001b[0m\" 200 -\n",
      "127.0.0.1 - - [11/Jul/2017 04:37:08] \"\u001b[33mGET /static/style.css HTTP/1.1\u001b[0m\" 404 -\n"
     ]
    }
   ],
   "source": [
    "from flask import Flask, render_template, request, redirect \n",
    "app = Flask(__name__)\n",
    "\n",
    "pd.set_option('display.max_colwidth', -1)\n",
    "@app.route('/')\n",
    "def main():\n",
    "    return redirect('/index')\n",
    "\n",
    "'''\n",
    "@app.route('/index', methods=['GET', 'POST'])\n",
    "def index():\n",
    "    if request.method == 'GET':\n",
    "        return render_template('index.html')\n",
    "\n",
    "    else:\n",
    "        ticker_input = request.form['ticker_symbol']\n",
    "        df_data = get_data_df(ticker=ticker_input)\n",
    "\n",
    "        if len(df_data) > 0:\n",
    "            script, div = get_plot_ticker_components(\n",
    "                ticker=ticker_input,\n",
    "                df_data=df_data\n",
    "            )\n",
    "\n",
    "            return render_template('plot_template.html', script=script, div=div)\n",
    "\n",
    "        else:\n",
    "            return redirect('/tables')\n",
    "'''\n",
    "@app.route('/tables', methods=['GET', 'POST'])\n",
    "def show_tables():\n",
    "    data=pd.read_csv(r\"C:\\Users\\cnyi\\Box Sync\\Github\\Python-code\\CraglistHousing\\apa_data_final\"+output_date+\".csv\",encoding ='utf8',index_col=None)\n",
    "    target_location_check(\"Sunnyvale: CalTrain Station\") #Golden Gate Bridge , Impact Hub Oakland, Sunnyvale: CalTrain Station\n",
    "    \n",
    "    def search_apa(search_radius=0.5):\n",
    "        return data[data.loc[:,'lat_long'].apply(lambda x: great_circle_distance(x)<search_radius)]\n",
    "    data['mapaddress']=data['mapaddress'].str.replace('\\n','').str.replace(r'(google map)','').str.strip().str.replace('()','')\n",
    "    data['mapaddress']=data['mapaddress'].apply(lambda x : delete_map(x))\n",
    "    data['url']=data['url'].apply(lambda x: r'<a href=\"'+x+'\">link</a>')\n",
    "    \n",
    "    data=search_apa(2.5)\n",
    "    data_html=data[['price','attr_space','attr_type','chinese_content','datetime','mapaddress','where','name','url']]\n",
    "    data_html.rename(columns={'price': 'asking_price', 'attr_space': 'Space', 'attr_type':'Type','datetime':'Post_time','where':'City','name':'headline'}, inplace=True)\n",
    "    data_html=data_html[data_html['Type'].notnull()]\n",
    "    \n",
    "    apa_studio=data_html[data_html['Type'].str.contains('0BR')].head(5)\n",
    "    apa_1BR=data_html[data_html['Type'].str.contains('1BR')].head(5)\n",
    "    apa_2BR=data_html[data_html['Type'].str.contains('2BR')].head(5)\n",
    "    apa_3BR=data_html[data_html['Type'].str.contains('3BR')].head(5)\n",
    "    \n",
    "    if request.method == 'GET':\n",
    "        return render_template('view.html',tables=[apa_studio.to_html(classes='apa_studio',escape=False),\\\n",
    "                                                  apa_1BR.to_html(classes='apa_1BR',escape=False),\\\n",
    "                                                  apa_2BR.to_html(classes='apa_2BR',escape=False),\\\n",
    "                                                  apa_3BR.to_html(classes='apa_3BR',escape=False)],\\\n",
    "                               titles = ['Nearby apartments', 'Top 5: Studio','Top 5: 1 Bedroom','Top 5: 2 Bedroom','Top 5: 3 Bedroom'])\n",
    "\n",
    "\n",
    "@app.route('/error_page', methods=['GET', 'POST'])\n",
    "def error_page():\n",
    "    return render_template('error_page.html')\n",
    "\n",
    "'''\n",
    "if __name__ == '__main__':\n",
    "    app.run(port=33507)\n",
    "\n",
    "if __name__ == \"__main__\":\n",
    "    port = int(os.environ.get(\"PORT\", 5000))\n",
    "    app.run(host='0.0.0.0', port=port)\n",
    "'''\n",
    "if __name__ == '__main__':\n",
    "     app.run(host='0.0.0.0')"
   ]
  }
 ],
 "metadata": {
  "kernelspec": {
   "display_name": "Python 2",
   "language": "python",
   "name": "python2"
  },
  "language_info": {
   "codemirror_mode": {
    "name": "ipython",
    "version": 2
   },
   "file_extension": ".py",
   "mimetype": "text/x-python",
   "name": "python",
   "nbconvert_exporter": "python",
   "pygments_lexer": "ipython2",
   "version": "2.7.13"
  }
 },
 "nbformat": 4,
 "nbformat_minor": 2
}
