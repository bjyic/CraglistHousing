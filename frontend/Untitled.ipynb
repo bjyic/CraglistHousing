{
 "cells": [
  {
   "cell_type": "code",
   "execution_count": 2,
   "metadata": {
    "collapsed": true
   },
   "outputs": [],
   "source": [
    "from bokeh.charts import TimeSeries\n",
    "from bokeh.embed import components\n",
    "\n",
    "import datetime\n",
    "import requests\n",
    "import pandas as pd\n",
    "\n",
    "import os\n",
    "from flask import Flask, render_template, request, redirect\n",
    "\n",
    "base_url = 'https://www.quandl.com/api/v3/datatables/WIKI/PRICES.json'\n",
    "base_params = {\n",
    "    'api_key': 'fVoNngaAV1uiM-etf31B',\n",
    "    'qopts.columns': 'date,close'\n",
    "}\n",
    "\n",
    "\n",
    "def convert_month_string(month):\n",
    "    if len(str(month)) == 1:\n",
    "        return '0' + str(month)\n",
    "    else:\n",
    "        return str(month)\n",
    "\n",
    "\n",
    "def get_date_range():\n",
    "\n",
    "    current_month = datetime.datetime.now().month\n",
    "    current_year = datetime.datetime.now().year\n",
    "\n",
    "    if current_month != 1:\n",
    "        last_month = current_month - 1\n",
    "        start_year = current_year\n",
    "    else:\n",
    "        last_month = 12\n",
    "        start_year = current_year - 1\n",
    "\n",
    "    start_range = str(start_year) + \\\n",
    "        convert_month_string(last_month) + '01'\n",
    "    end_range = str(current_year) + \\\n",
    "        convert_month_string(current_month) + '01'\n",
    "\n",
    "    date_range = {\n",
    "        'start_range': start_range,\n",
    "        'end_range': end_range\n",
    "    }\n",
    "    return date_range\n",
    "\n",
    "\n",
    "def get_data(\n",
    "    ticker,\n",
    "    base_url=base_url,\n",
    "    base_params=base_params\n",
    "):\n",
    "    # get date range\n",
    "    date_range = get_date_range()\n",
    "    base_params['ticker'] = ticker\n",
    "    base_params['date.gte'] = date_range['start_range']\n",
    "    base_params['date.lt'] = date_range['end_range']\n",
    "\n",
    "    response"
   ]
  },
  {
   "cell_type": "code",
   "execution_count": 14,
   "metadata": {},
   "outputs": [
    {
     "data": {
      "text/plain": [
       "'123'"
      ]
     },
     "execution_count": 14,
     "metadata": {},
     "output_type": "execute_result"
    }
   ],
   "source": [
    "number=123\n",
    "a=[number]\n",
    "str(number)"
   ]
  },
  {
   "cell_type": "code",
   "execution_count": 15,
   "metadata": {
    "collapsed": true
   },
   "outputs": [],
   "source": [
    "b=[]\n",
    "for i in str(number):\n",
    "    b.append(i)"
   ]
  },
  {
   "cell_type": "code",
   "execution_count": 21,
   "metadata": {},
   "outputs": [],
   "source": [
    "bb=b[::-1]"
   ]
  },
  {
   "cell_type": "code",
   "execution_count": 29,
   "metadata": {},
   "outputs": [
    {
     "name": "stdout",
     "output_type": "stream",
     "text": [
      "3\n",
      "2\n",
      "1\n"
     ]
    },
    {
     "data": {
      "text/plain": [
       "'321'"
      ]
     },
     "execution_count": 29,
     "metadata": {},
     "output_type": "execute_result"
    }
   ],
   "source": [
    "w=''\n",
    "for i in bb:\n",
    "    print i\n",
    "    w=w+i\n",
    "w\n",
    "    \n",
    "    "
   ]
  }
 ],
 "metadata": {
  "kernelspec": {
   "display_name": "Python 2",
   "language": "python",
   "name": "python2"
  },
  "language_info": {
   "codemirror_mode": {
    "name": "ipython",
    "version": 2
   },
   "file_extension": ".py",
   "mimetype": "text/x-python",
   "name": "python",
   "nbconvert_exporter": "python",
   "pygments_lexer": "ipython2",
   "version": "2.7.13"
  }
 },
 "nbformat": 4,
 "nbformat_minor": 2
}
