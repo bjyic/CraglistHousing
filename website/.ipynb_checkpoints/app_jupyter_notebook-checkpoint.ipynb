{
 "cells": [
  {
   "cell_type": "code",
   "execution_count": 1,
   "metadata": {},
   "outputs": [
    {
     "name": "stderr",
     "output_type": "stream",
     "text": [
      " * Running on http://0.0.0.0:5000/ (Press CTRL+C to quit)\n",
      "127.0.0.1 - - [13/Jul/2017 07:31:02] \"\u001b[37mGET /index HTTP/1.1\u001b[0m\" 200 -\n",
      "C:\\Users\\cnyi\\AppData\\Local\\Continuum\\Anaconda3\\lib\\site-packages\\pandas\\core\\frame.py:2844: SettingWithCopyWarning: \n",
      "A value is trying to be set on a copy of a slice from a DataFrame\n",
      "\n",
      "See the caveats in the documentation: http://pandas.pydata.org/pandas-docs/stable/indexing.html#indexing-view-versus-copy\n",
      "  **kwargs)\n",
      "127.0.0.1 - - [13/Jul/2017 07:31:19] \"\u001b[37mPOST /index HTTP/1.1\u001b[0m\" 200 -\n",
      "127.0.0.1 - - [13/Jul/2017 07:31:20] \"\u001b[37mGET /static/style.css HTTP/1.1\u001b[0m\" 200 -\n",
      "127.0.0.1 - - [13/Jul/2017 07:33:33] \"\u001b[37mPOST /index HTTP/1.1\u001b[0m\" 200 -\n",
      "127.0.0.1 - - [13/Jul/2017 07:33:39] \"\u001b[37mGET /index HTTP/1.1\u001b[0m\" 200 -\n",
      "127.0.0.1 - - [13/Jul/2017 07:33:47] \"\u001b[37mPOST /index HTTP/1.1\u001b[0m\" 200 -\n",
      "127.0.0.1 - - [13/Jul/2017 07:33:52] \"\u001b[37mPOST /index HTTP/1.1\u001b[0m\" 200 -\n",
      "127.0.0.1 - - [13/Jul/2017 07:33:52] \"\u001b[37mGET /static/style.css HTTP/1.1\u001b[0m\" 200 -\n"
     ]
    }
   ],
   "source": [
    "import datetime\n",
    "import pandas as pd\n",
    "import datetime\n",
    "import os\n",
    "import geopy.distance\n",
    "from geopy.distance import great_circle\n",
    "now = datetime.datetime.now()\n",
    "output_date=str(now.year)+str(now.month)+str(now.day-1)\n",
    "\n",
    "import pandas as pd\n",
    "pd.set_option('display.max_colwidth', -1)\n",
    "\n",
    "\n",
    "\n",
    "def delete_map(x):\n",
    "    try:\n",
    "        return str(x).replace('()','').strip()\n",
    "    except:\n",
    "        return ''\n",
    "\n",
    "from flask import Flask, render_template, request, redirect \n",
    "app = Flask(__name__)\n",
    "\n",
    "pd.set_option('display.max_colwidth', -1)\n",
    "@app.route('/')\n",
    "def main():\n",
    "    return redirect('/index')\n",
    "\n",
    "\n",
    "@app.route('/index', methods=['GET', 'POST'])\n",
    "def index():\n",
    "    if request.method == 'GET':\n",
    "        return render_template('index.html')\n",
    "\n",
    "    else:\n",
    "        address_input = request.form['address_input']\n",
    "        radius_input= request.form['radius_input']\n",
    "        if len(address_input.strip())>4 :\n",
    "            def target_location_check (x):\n",
    "                try:\n",
    "                    global target_location_coords\n",
    "                    from geopy.geocoders import Nominatim\n",
    "                    geolocator = Nominatim()\n",
    "                    target_location=geolocator.geocode(x)\n",
    "                    target_location_coords=(target_location.latitude,target_location.longitude)\n",
    "                    print_address=target_location.address\n",
    "                    return target_location_coords,print_address\n",
    "                except:\n",
    "                    return redirect('/error_page')\n",
    "            \n",
    "            target_location_coords,print_address=target_location_check(address_input)\n",
    "            #print print_address\n",
    "            #print target_location_coords\n",
    "            \n",
    "\n",
    "            data_pre=pd.read_csv(r\"C:\\Users\\cnyi\\Box Sync\\Github\\Python-code\\CraglistHousing\\apa_data_final.csv\",encoding ='utf8',index_col=None)\n",
    "            data_pre['mapaddress']=data_pre['mapaddress'].str.replace('\\n','').str.replace(r'(google map)','').str.strip().str.replace('()','')\n",
    "            data_pre['mapaddress']=data_pre['mapaddress'].apply(lambda x : delete_map(x))\n",
    "            data_pre['url']=data_pre['url'].apply(lambda x: r'<a href=\"'+x+'\">link</a>')\n",
    "            \n",
    "            def great_circle_distance(x):\n",
    "                global target_location_coords\n",
    "                import sys\n",
    "                try:\n",
    "                    distance=great_circle(target_location_coords,x).miles\n",
    "                   # print target_location_coords\n",
    "                except:\n",
    "                    distance=9999\n",
    "                    #print sys.exc_info()\n",
    "                return distance \n",
    "            \n",
    "            def search_apa(search_radius):\n",
    "                #print search_radius\n",
    "                return data_pre[data_pre.loc[:,'lat_long'].apply(lambda x: great_circle_distance(x)<search_radius)]\n",
    "\n",
    "            \n",
    "            #print target_location_coords\n",
    "            \n",
    "            data=search_apa(float(radius_input))\n",
    "            #print radius_input\n",
    "            #print data[['mapaddress','where']].head(10)\n",
    "            \n",
    "            data_html=data[['price','attr_space','attr_type','chinese_content','datetime','mapaddress','where','name','url']]\n",
    "            data_html.rename(columns={'price': 'asking_price', 'attr_space': 'Space', 'attr_type':'Type','datetime':'Post_time','where':'City','name':'headline'}, inplace=True)\n",
    "            data_html=data_html[data_html['Type'].notnull()]\n",
    "            def suggest_price(x):\n",
    "                import random\n",
    "                try:\n",
    "                    return '${:,.2f}'.format(float(str(x)[1:])+random.uniform(-300, 300))\n",
    "                except:\n",
    "                    return 'NAN'\n",
    "            \n",
    "            data_html['suggest_price']=data_html['asking_price'].apply(lambda x: suggest_price(x))\n",
    "            data_html= data_html[['asking_price','suggest_price','Space','Type','Post_time','City','headline','url']]\n",
    "\n",
    "            apa_studio=data_html[data_html['Type'].str.contains('0BR')].head(5)\n",
    "            apa_1BR=data_html[data_html['Type'].str.contains('1BR')].head(5)\n",
    "            apa_2BR=data_html[data_html['Type'].str.contains('2BR')].head(5)\n",
    "            apa_3BR=data_html[data_html['Type'].str.contains('3BR')].head(5)\n",
    "            \n",
    "            #print target_location_coords\n",
    "            \n",
    "            return render_template('view.html',tables=[apa_studio.to_html(classes='apa_studio',index=False,escape=False),\\\n",
    "                                                  apa_1BR.to_html(classes='apa_1BR',index=False,escape=False),\\\n",
    "                                                  apa_2BR.to_html(classes='apa_2BR',index=False,escape=False),\\\n",
    "                                                  apa_3BR.to_html(classes='apa_3BR',index=False,escape=False)],\\\n",
    "                               titles = ['Nearby apartments', 'Top 5: Studio','Top 5: 1 Bedroom','Top 5: 2 Bedroom','Top 5: 3 Bedroom']\\\n",
    "                              ,radius_input=radius_input, print_address=print_address   )\n",
    "        else:\n",
    "            return redirect('/error_page')\n",
    "\n",
    "\n",
    "@app.route('/error_page', methods=['GET', 'POST'])\n",
    "def error_page():\n",
    "    return render_template('error_page.html')\n",
    "\n",
    "\n",
    "if __name__ == '__main__':\n",
    "     app.run(host='0.0.0.0')"
   ]
  },
  {
   "cell_type": "code",
   "execution_count": 2,
   "metadata": {
    "collapsed": true
   },
   "outputs": [],
   "source": [
    "import pandas as pd\n",
    "data_pre=pd.read_csv(r\"C:\\Users\\cnyi\\Box Sync\\Github\\Python-code\\CraglistHousing\\apa_data_final.csv\",encoding ='utf8',index_col=None)\n"
   ]
  },
  {
   "cell_type": "code",
   "execution_count": 4,
   "metadata": {
    "collapsed": true
   },
   "outputs": [],
   "source": [
    "a=data_pre[['where','price']].head(10)"
   ]
  },
  {
   "cell_type": "code",
   "execution_count": 7,
   "metadata": {},
   "outputs": [],
   "source": [
    "b=a.set_index('price')"
   ]
  },
  {
   "cell_type": "code",
   "execution_count": 11,
   "metadata": {},
   "outputs": [
    {
     "data": {
      "text/plain": [
       "u'<table border=\"1\" class=\"dataframe\">\\n  <thead>\\n    <tr style=\"text-align: right;\">\\n      <th>where</th>\\n      <th>price</th>\\n    </tr>\\n  </thead>\\n  <tbody>\\n    <tr>\\n      <td>oakland hills / mills</td>\\n      <td>$2300</td>\\n    </tr>\\n    <tr>\\n      <td>oakland hills / mills</td>\\n      <td>$2300</td>\\n    </tr>\\n    <tr>\\n      <td>oakland hills / mills</td>\\n      <td>$2300</td>\\n    </tr>\\n    <tr>\\n      <td>hayward / castro valley</td>\\n      <td>$1775</td>\\n    </tr>\\n    <tr>\\n      <td>hayward / castro valley</td>\\n      <td>$2250</td>\\n    </tr>\\n    <tr>\\n      <td>berkeley north / hills</td>\\n      <td>$2195</td>\\n    </tr>\\n    <tr>\\n      <td>berkeley north / hills</td>\\n      <td>$1995</td>\\n    </tr>\\n    <tr>\\n      <td>walnut creek</td>\\n      <td>$5300</td>\\n    </tr>\\n    <tr>\\n      <td>Walnut Creek, CA</td>\\n      <td>$1557</td>\\n    </tr>\\n    <tr>\\n      <td>lafayette / orinda / moraga</td>\\n      <td>$2800</td>\\n    </tr>\\n  </tbody>\\n</table>'"
      ]
     },
     "execution_count": 11,
     "metadata": {},
     "output_type": "execute_result"
    }
   ],
   "source": [
    "a.to_html(index=False)"
   ]
  }
 ],
 "metadata": {
  "kernelspec": {
   "display_name": "Python 2",
   "language": "python",
   "name": "python2"
  },
  "language_info": {
   "codemirror_mode": {
    "name": "ipython",
    "version": 2
   },
   "file_extension": ".py",
   "mimetype": "text/x-python",
   "name": "python",
   "nbconvert_exporter": "python",
   "pygments_lexer": "ipython2",
   "version": "2.7.13"
  }
 },
 "nbformat": 4,
 "nbformat_minor": 2
}
